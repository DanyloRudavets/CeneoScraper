{
 "cells": [
  {
   "cell_type": "markdown",
   "metadata": {},
   "source": [
    "### Import bibliotek\n"
   ]
  },
  {
   "cell_type": "code",
   "execution_count": 52,
   "metadata": {},
   "outputs": [],
   "source": [
    "import os\n",
    "import pandas as pd\n",
    "import numpy as np\n",
    "from matplotlib import pyplot as plt"
   ]
  },
  {
   "cell_type": "markdown",
   "metadata": {},
   "source": [
    "### Wczytanie i przygotowanie danych\n"
   ]
  },
  {
   "cell_type": "code",
   "execution_count": 32,
   "metadata": {},
   "outputs": [],
   "source": [
    "print(*[filename.removesuffix(\".json\") for filename in os.listdir(\"./opinions\")], sep=\"\\n\")"
   ]
  },
  {
   "cell_type": "code",
   "execution_count": 33,
   "metadata": {},
   "outputs": [],
   "source": [
    "product_id=input(\"Podaj kod productu: \")\n",
    "opinios= pd.read_json(f\"./opinions/{product_id}.json\").set_index('review_id')\n",
    "opinios\n"
   ]
  },
  {
   "cell_type": "code",
   "execution_count": 34,
   "metadata": {},
   "outputs": [],
   "source": [
    "opinios.stars= opinios.stars.apply(lambda s: s.split('/')[0].replace(',', '.')).astype(float)\n",
    "opinios.likes= opinios.likes.astype(int)\n",
    "opinios.dislikes= opinios.dislikes.astype(int)\n",
    "opinios"
   ]
  },
  {
   "cell_type": "markdown",
   "metadata": {},
   "source": [
    "### Podstawowe statystyki\n"
   ]
  },
  {
   "cell_type": "code",
   "execution_count": 40,
   "metadata": {},
   "outputs": [],
   "source": [
    "reviews_count=opinios.shape[0]\n",
    "pros_count= opinios.pros.astype(bool).sum()\n",
    "cons_count=opinios.cons.astype(bool).sum()\n",
    "pros_cons_count=opinios.apply(lambda r: bool(r.pros) and bool(r.cons), axis=1).sum()\n",
    "avarage_score=round(opinios.stars.mean(), 2)\n",
    "print(f\"Liczba opinii o produkcie: {reviews_count}\")\n",
    "print(f\"Liczba opinii przy ktorych podane zostala lista zalet: {pros_count}\")\n",
    "print(f\"Liczba opinii przy ktorych podana zostala lista wad: {cons_count}\")\n",
    "print(f'Liczba opinii przy ktorych podana zostala lista zalet oraz lista wad {pros_cons_count}')\n",
    "print(f\"Średnia liczba gwiazdek dla produktu: {avarage_score}\")"
   ]
  },
  {
   "cell_type": "code",
   "execution_count": 48,
   "metadata": {},
   "outputs": [],
   "source": [
    "pros = opinios.pros.explode().value_counts()\n",
    "cons= opinios.cons.explode().value_counts()"
   ]
  },
  {
   "cell_type": "markdown",
   "metadata": {},
   "source": [
    "### Wykresy\n"
   ]
  },
  {
   "cell_type": "markdown",
   "metadata": {},
   "source": []
  },
  {
   "cell_type": "code",
   "execution_count": 66,
   "metadata": {},
   "outputs": [],
   "source": [
    "recommendation= opinios.recomendation.value_counts(dropna=False).reindex(['Nie Polecam','Polecam', None], fill_value=0)\n",
    "recommendation"
   ]
  },
  {
   "cell_type": "code",
   "execution_count": 69,
   "metadata": {},
   "outputs": [],
   "source": [
    "recommendation.plot.pie(\n",
    "    label='',\n",
    "    labels=['Nie Polecam','Polecam','Nie mam zdania'],\n",
    "    autopct = lambda x: f\"{x:1.2f}%\" if x>0 else \"\",\n",
    "    colors=['crimson','forestgreen','khaki']\n",
    ")"
   ]
  }
 ],
 "metadata": {
  "kernelspec": {
   "display_name": ".venv",
   "language": "python",
   "name": "python3"
  },
  "language_info": {
   "codemirror_mode": {
    "name": "ipython",
    "version": 3
   },
   "file_extension": ".py",
   "mimetype": "text/x-python",
   "name": "python",
   "nbconvert_exporter": "python",
   "pygments_lexer": "ipython3",
   "version": "3.11.4"
  }
 },
 "nbformat": 4,
 "nbformat_minor": 2
}
