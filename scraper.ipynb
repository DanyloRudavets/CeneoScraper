{
 "cells": [
  {
   "cell_type": "markdown",
   "metadata": {},
   "source": [
    "### import bibliotek"
   ]
  },
  {
   "cell_type": "code",
   "execution_count": 10,
   "metadata": {},
   "outputs": [],
   "source": [
    "import requests\n",
    "from bs4 import BeautifulSoup\n",
    "import json\n",
    "import os"
   ]
  },
  {
   "cell_type": "markdown",
   "metadata": {},
   "source": [
    "Narzedzia\n"
   ]
  },
  {
   "cell_type": "code",
   "execution_count": 11,
   "metadata": {},
   "outputs": [],
   "source": [
    "def extract(ancestor, selector=None, attribute=None, many=False):\n",
    "    if selector:\n",
    "        if many:\n",
    "            if attribute:\n",
    "\n",
    "                return [item[attribute].strip() for item in ancestor.select(selector)]\n",
    "\n",
    "            return [item.text.strip() for item in ancestor.select(selector)]\n",
    "        if attribute:\n",
    "            try:\n",
    "                return ancestor.select_one(selector)[attribute].strip()\n",
    "            except TypeError:\n",
    "                return None\n",
    "        try:\n",
    "            \n",
    "            return ancestor.select_one(selector).text.strip()\n",
    "        except AttributeError:\n",
    "            return None\n",
    "    if attribute:\n",
    "        try:\n",
    "            \n",
    "            return ancestor[attribute]\n",
    "        except TypeError:\n",
    "            return None\n",
    "    return ancestor.text.strip()"
   ]
  },
  {
   "cell_type": "code",
   "execution_count": 12,
   "metadata": {},
   "outputs": [],
   "source": [
    "opinion_schema={\n",
    "    'review_id':  (None, 'data-entry-id',),\n",
    "    'author': ( 'span.user-post__author-name',),\n",
    "    'recomendation': ('span.user-post__author-recomendation > em',),\n",
    "    'stars': ( 'span.user-post__score-count',),\n",
    "    'content': ('div.user-post__text',),\n",
    "    'pros': ( 'div.review-feature__item--positive', None, True),\n",
    "    'cons': ( 'div.review-feature__item--negative', None, True),\n",
    "    'likes': ( 'button.vote-yes > span',),\n",
    "    'dislikes': ( 'button.vote-no > span',),\n",
    "    'publish_date': ( 'span.user-post__published > time:nth-child(1)', 'datetime'),\n",
    "    'purchase_date': ('span.user-post__published > time:nth-child(2)', 'datetime')\n",
    "    }"
   ]
  },
  {
   "cell_type": "code",
   "execution_count": 13,
   "metadata": {},
   "outputs": [],
   "source": [
    "with open('./headers.json', 'r') as jf:\n",
    "\n",
    "    headers=json.load(jf)\n"
   ]
  },
  {
   "cell_type": "markdown",
   "metadata": {},
   "source": [
    "Pobranie ze strony Ceneo.pl opinii o  konkretnym produkcie\n",
    "\n"
   ]
  },
  {
   "cell_type": "code",
   "execution_count": null,
   "metadata": {},
   "outputs": [],
   "source": [
    "product_id=input('Podaj kod  productu: ')\n",
    "next_page=f\"https://www.ceneo.pl/{product_id}#tab=reviews\"\n",
    "all_opinios=[]\n",
    "while next_page:\n",
    "    response = requests.get(next_page, headers = headers)\n",
    "    print(next_page)\n",
    "    if response.status_code==200:\n",
    "        page_dom=  BeautifulSoup(response.text, \"html.parser\")\n",
    "        opinions= page_dom.select('div.js_product-review:not(.user-post--highlight)')\n",
    "        print(len(opinions))\n",
    "        for opinion in opinions:\n",
    "\n",
    "                single_opinion={\n",
    "                    key: extract(opinion, *value)\n",
    "                    for key, value in opinion_schema.items()\n",
    "                }\n",
    "                all_opinios.append(single_opinion)\n",
    "    \n",
    "        try:\n",
    "            next_page=\"https://www.ceneo.pl\"+extract(page_dom, 'a.pagination__next', 'href')\n",
    "                \n",
    "        except TypeError:\n",
    "            next_page=None\n",
    "print(all_opinios)"
   ]
  },
  {
   "cell_type": "markdown",
   "metadata": {},
   "source": [
    "### zapisanie wszystkich opinii w bazie danych\n"
   ]
  },
  {
   "cell_type": "code",
   "execution_count": 15,
   "metadata": {},
   "outputs": [],
   "source": [
    "if not os.path.exists(\"./opinions\"):\n",
    "    os.mkdir(\"./opinions\")"
   ]
  },
  {
   "cell_type": "code",
   "execution_count": 16,
   "metadata": {},
   "outputs": [],
   "source": [
    "with open(f\"./opinions/{product_id}.json\", \"w\", encoding=\"UTF-8\") as jf:\n",
    "    json.dump(all_opinios, jf, indent= 4, ensure_ascii=False)"
   ]
  }
 ],
 "metadata": {
  "kernelspec": {
   "display_name": ".venv",
   "language": "python",
   "name": "python3"
  },
  "language_info": {
   "codemirror_mode": {
    "name": "ipython",
    "version": 3
   },
   "file_extension": ".py",
   "mimetype": "text/x-python",
   "name": "python",
   "nbconvert_exporter": "python",
   "pygments_lexer": "ipython3",
   "version": "3.11.4"
  }
 },
 "nbformat": 4,
 "nbformat_minor": 2
}
