{
 "cells": [
  {
   "cell_type": "markdown",
   "metadata": {},
   "source": [
    "### import bibliotek"
   ]
  },
  {
   "cell_type": "code",
   "execution_count": 44,
   "metadata": {},
   "outputs": [],
   "source": [
    "import requests\n",
    "from bs4 import BeautifulSoup\n",
    "import json\n",
    "import os"
   ]
  },
  {
   "cell_type": "code",
   "execution_count": 42,
   "metadata": {},
   "outputs": [],
   "source": [
    "with open('./headers.json', 'r') as jf:\n",
    "\n",
    "    headers=json.load(jf)\n"
   ]
  },
  {
   "cell_type": "markdown",
   "metadata": {},
   "source": [
    "Pobranie ze strony Ceneo.pl opinii o  konkretnym produkcie\n",
    "\n"
   ]
  },
  {
   "cell_type": "code",
   "execution_count": null,
   "metadata": {},
   "outputs": [],
   "source": [
    "product_id=\"/176018202\"\n",
    "next_page=f\"https://www.ceneo.pl/{product_id}#tab=reviews\"\n",
    "all_opinios=[]\n",
    "while next_page:\n",
    "    response = requests.get(next_page, headers= headers)\n",
    "    print(next_page)\n",
    "    if response.status_code==200:\n",
    "        page_dom=  BeautifulSoup(response.text, \"html.parser\")\n",
    "        opinions= page_dom.select('div.js_product-review:not(.user-post--highlight)')\n",
    "        print(len(opinions))\n",
    "        for opinion in opinions:\n",
    "                try:\n",
    "                    single_opinion={\n",
    "                        'review_id': opinion['data-entry-id'],\n",
    "                        'author': opinion.select_one('span.user-post__author-name').text.strip(),\n",
    "                        'recomendation':opinion.select_one('span.user-post__author-recomendation > em').text.strip(),\n",
    "                        'stars': opinion.select_one('span.user-post__score-count').text.strip(),\n",
    "                        'content': opinion.select_one('div.user-post__text').text.strip(),\n",
    "                        'pros': [p.text.strip() for p in opinion.select('div.review-feature__item--positive')],\n",
    "                        'cons': [c.text.strip() for c in opinion.select('div.review-feature__item--negative')],\n",
    "                        'likes': opinion.select_one('button.vote-yes > span').text.strip(),\n",
    "                        'dislikes': opinion.select_one('button.vote-no > span').text.strip(),\n",
    "                        'publish_date':opinion.select_one('span.user-post__published > time:nth-child(1)')['datetime'].strip(),\n",
    "                        'purchase_date': opinion.select_one('span.user-post__published > time:nth-child(2)')['datetime'].strip()\n",
    "                    }\n",
    "                    all_opinios.append(single_opinion)\n",
    "                except (AttributeError, TypeError): \n",
    "                    pass\n",
    "        \n",
    "        try:\n",
    "            next_page=\"https://www.ceneo.pl\"+page_dom.select_one('a.pagination__next')['href']\n",
    "                \n",
    "        except TypeError:\n",
    "            next_page=None\n",
    "print(all_opinios)"
   ]
  },
  {
   "cell_type": "markdown",
   "metadata": {},
   "source": [
    "### zapisanie wszystkich opinii w bazie danych\n"
   ]
  },
  {
   "cell_type": "code",
   "execution_count": 51,
   "metadata": {},
   "outputs": [],
   "source": [
    "if not os.path.exists(\"./opinions\"):\n",
    "    os.mkdir(\"./opinions\")"
   ]
  },
  {
   "cell_type": "code",
   "execution_count": 58,
   "metadata": {},
   "outputs": [],
   "source": [
    "with open(f\"./opinions/{product_id}.json\", \"w\", encoding=\"UTF-8\") as jf:\n",
    "    json.dump(all_opinios, jf, indent= 4, ensure_ascii=False)"
   ]
  }
 ],
 "metadata": {
  "kernelspec": {
   "display_name": ".venv",
   "language": "python",
   "name": "python3"
  },
  "language_info": {
   "codemirror_mode": {
    "name": "ipython",
    "version": 3
   },
   "file_extension": ".py",
   "mimetype": "text/x-python",
   "name": "python",
   "nbconvert_exporter": "python",
   "pygments_lexer": "ipython3",
   "version": "3.11.4"
  }
 },
 "nbformat": 4,
 "nbformat_minor": 2
}
